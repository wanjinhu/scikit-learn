{
 "cells": [
  {
   "cell_type": "markdown",
   "id": "a6f60c20",
   "metadata": {},
   "source": [
    "1. 模型：随机森林分类器\n",
    "2. 自变量：物种组成\n",
    "3. 因变量：age_group分类"
   ]
  },
  {
   "cell_type": "code",
   "execution_count": 30,
   "id": "19d13bde",
   "metadata": {},
   "outputs": [
    {
     "name": "stdout",
     "output_type": "stream",
     "text": [
      "{'0~6m': 0, '12~24m': 1, '24~36m': 2, '36m+': 3, '6~12m': 4}\n"
     ]
    }
   ],
   "source": [
    "# 1.数据读取\n",
    "import pandas as pd\n",
    "from sklearn import preprocessing\n",
    "## 物种组成变量\n",
    "df = pd.read_csv(\"sub_sp.csv\",sep=\",\",header=0,index_col=5)\n",
    "df.drop(columns=[\"Kindom\",\"Phylum\",\"Class\",\"Order\",\"Family\"],inplace=True)\n",
    "df_X = df.T\n",
    "## 样本的age_group标签\n",
    "df = pd.read_csv(\"sub_meta.csv\",sep=\",\",header=0)\n",
    "df_y = df[['sample', 'age_group']]\n",
    "df_y.set_index('sample',inplace=True)\n",
    "## 标签数值型化\n",
    "le = preprocessing.LabelEncoder()\n",
    "age_label = le.fit_transform(df_y['age_group'])\n",
    "label_mapping = dict(zip(le.classes_, range(len(le.classes_))))\n",
    "print(label_mapping)\n",
    "df_y = pd.DataFrame(age_label,index=df_y.index,columns=['age_group'])\n"
   ]
  },
  {
   "cell_type": "code",
   "execution_count": 31,
   "id": "b8288efe",
   "metadata": {},
   "outputs": [],
   "source": [
    "# 2.先划分数据集，再进行特征筛选\n",
    "from sklearn.model_selection import train_test_split\n",
    "from sklearn.feature_selection import VarianceThreshold\n",
    "import numpy as np\n",
    "## 2.1 划分数据集\n",
    "X_train, X_test, y_train, y_test = train_test_split(df_X, df_y, test_size=0.2, random_state=42)\n",
    "## 2.2 特征筛选\n",
    "### 2.2.1 方差过滤(默认删除方差为0的特征)\n",
    "selector = VarianceThreshold()\n",
    "X_train1 = selector.fit_transform(X_train)\n",
    "X_test1 = selector.fit_transform(X_test)"
   ]
  },
  {
   "cell_type": "code",
   "execution_count": null,
   "id": "4b289685",
   "metadata": {},
   "outputs": [],
   "source": [
    "# 3.构建训练模型\n",
    "from sklearn.ensemble import RandomForestClassifier\n",
    "rfc = RandomForestClassifier(n_estimators=100, random_state=42)\n",
    "rfc.fit(X_train, y_train)"
   ]
  },
  {
   "cell_type": "code",
   "execution_count": null,
   "id": "9a593981",
   "metadata": {},
   "outputs": [],
   "source": [
    "# 4.模型评估\n",
    "from sklearn.metrics import accuracy_score\n",
    "import matplotlib.pyplot as plt\n",
    "\n",
    "predictions = rfc.predict(X_test)\n",
    "accuracy = accuracy_score(y_test, predictions)\n",
    "print(\"Accuracy:\", )\n",
    "print(accuracy)\n",
    "from sklearn.metrics import confusion_matrix\n",
    "c_matrix = confusion_matrix(y_test, predictions)\n",
    "print(\"Confusion_matrix:\", )\n",
    "print(c_matrix)\n",
    "from sklearn.metrics import classification_report\n",
    "c_report = classification_report(y_test, predictions)\n",
    "print(\"Classification Report:\", )\n",
    "print(c_report)"
   ]
  },
  {
   "cell_type": "code",
   "execution_count": null,
   "id": "e6d464ad",
   "metadata": {},
   "outputs": [],
   "source": [
    "# 5.模型参数调优\n",
    "from sklearn.model_selection import GridSearchCV\n",
    "\n",
    "# 定义超参数网格\n",
    "param_grid = {\n",
    "    'n_estimators': [10, 50, 100],\n",
    "    'max_depth': [None, 10, 20],\n",
    "    'criterion': [\"gini\", \"entropy\"]\n",
    "}\n",
    "\n",
    "# 创建网格搜索实例\n",
    "grid_search = GridSearchCV(estimator=rfc, param_grid=param_grid, cv=5)\n",
    "\n",
    "# 进行超参数调优, grid_search.fit()会自动进行交叉验证和模型评估, 并返回最佳模型\n",
    "grid_search.fit(X_train, y_train)\n",
    "\n",
    "# 输出最佳超参数和最佳模型\n",
    "print(\"Best score: \", grid_search.best_score_)\n",
    "print(\"Best index: \", grid_search.best_index_)\n",
    "print(\"Best parameters: \", grid_search.best_params_)\n",
    "print(\"Best model: \", grid_search.best_estimator_)"
   ]
  },
  {
   "cell_type": "code",
   "execution_count": 40,
   "id": "5dc76a57",
   "metadata": {},
   "outputs": [
    {
     "name": "stdout",
     "output_type": "stream",
     "text": [
      "Accuracy: 0.5875\n"
     ]
    }
   ],
   "source": [
    "# 6.优化后的模型评估\n",
    "from sklearn.metrics import accuracy_score\n",
    "\n",
    "# 使用测试集评估模型\n",
    "predictions = grid_search.predict(X_test)\n",
    "accuracy = accuracy_score(y_test, predictions)\n",
    "print(f\"Accuracy: {accuracy}\")"
   ]
  },
  {
   "cell_type": "code",
   "execution_count": 41,
   "id": "51badc49",
   "metadata": {},
   "outputs": [
    {
     "data": {
      "text/plain": [
       "['RandomForestClassifier.pkl']"
      ]
     },
     "execution_count": 41,
     "metadata": {},
     "output_type": "execute_result"
    }
   ],
   "source": [
    "# 7.保存优化后的模型\n",
    "import joblib\n",
    "\n",
    "joblib.dump(grid_search, 'RandomForestClassifier.pkl')"
   ]
  }
 ],
 "metadata": {
  "kernelspec": {
   "display_name": "Python 3 (ipykernel)",
   "language": "python",
   "name": "python3"
  },
  "language_info": {
   "codemirror_mode": {
    "name": "ipython",
    "version": 3
   },
   "file_extension": ".py",
   "mimetype": "text/x-python",
   "name": "python",
   "nbconvert_exporter": "python",
   "pygments_lexer": "ipython3",
   "version": "3.10.7"
  }
 },
 "nbformat": 4,
 "nbformat_minor": 5
}
